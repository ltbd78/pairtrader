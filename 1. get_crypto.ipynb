{
 "cells": [
  {
   "cell_type": "code",
   "execution_count": 1,
   "metadata": {},
   "outputs": [],
   "source": [
    "import pandas as pd\n",
    "from functools import reduce"
   ]
  },
  {
   "cell_type": "code",
   "execution_count": 2,
   "metadata": {},
   "outputs": [],
   "source": [
    "def get_data(symbol, timeframe):\n",
    "    # http://www.cryptodatadownload.com/data/\n",
    "    # timeframe must be {'d', '1h', 'minute'}\n",
    "    url = f'http://www.cryptodatadownload.com/cdd/Binance_{symbol.upper()}USDT_{timeframe}.csv'\n",
    "    return pd.read_csv(url, skiprows=1)"
   ]
  },
  {
   "cell_type": "code",
   "execution_count": 3,
   "metadata": {},
   "outputs": [],
   "source": [
    "symbols = ['btc', 'eth', 'ltc', 'neo', 'bnb', 'xrp', 'link', 'eos', 'trx', 'etc', 'xlm', 'zec', 'ada', 'qtum', 'dash', 'xmr', 'btt']"
   ]
  },
  {
   "cell_type": "code",
   "execution_count": 4,
   "metadata": {},
   "outputs": [],
   "source": [
    "# For downloading original\n",
    "# dfs = []\n",
    "# for s in symbols:\n",
    "#     df = get_data(s, 'd')\n",
    "#     df.to_csv(f'data/{s}_1d.csv', index=False)"
   ]
  },
  {
   "cell_type": "code",
   "execution_count": 5,
   "metadata": {},
   "outputs": [],
   "source": [
    "dfs = []\n",
    "for s in symbols:\n",
    "    df = get_data(s, 'minute')\n",
    "    df_clean = df.rename(columns={'close':s})[['unix', s]]\n",
    "    dfs.append(df_clean)"
   ]
  },
  {
   "cell_type": "code",
   "execution_count": 6,
   "metadata": {},
   "outputs": [],
   "source": [
    "f = lambda L, R: pd.merge(L, R, how='inner', on='unix')\n",
    "df = reduce(f, dfs)"
   ]
  },
  {
   "cell_type": "code",
   "execution_count": 11,
   "metadata": {},
   "outputs": [],
   "source": [
    "df = df.sort_values('unix')\n",
    "df.to_csv('data/crypto_1m.csv', index=False)"
   ]
  }
 ],
 "metadata": {
  "kernelspec": {
   "display_name": "Python 3",
   "language": "python",
   "name": "python3"
  },
  "language_info": {
   "codemirror_mode": {
    "name": "ipython",
    "version": 3
   },
   "file_extension": ".py",
   "mimetype": "text/x-python",
   "name": "python",
   "nbconvert_exporter": "python",
   "pygments_lexer": "ipython3",
   "version": "3.8.7"
  }
 },
 "nbformat": 4,
 "nbformat_minor": 4
}
